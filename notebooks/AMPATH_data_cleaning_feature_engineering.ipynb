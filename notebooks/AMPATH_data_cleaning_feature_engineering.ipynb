{
 "cells": [
  {
   "cell_type": "markdown",
   "metadata": {},
   "source": [
    "### Table of Contents\n",
    "* [Introduction](#introduction)\n",
    "* [Data Type Conversion](#data-type-conversion)\n",
    "* [Data Cleaning](#data-cleaning)\n",
    "* [Data Cleaning Summary](#data-cleaning-summary)\n",
    "* [Feature Engineering](#feature-engineering)\n",
    "* [Feature Engineering Summary](#feature-engineering-summary)"
   ]
  },
  {
   "cell_type": "markdown",
   "metadata": {},
   "source": [
    "\n",
    "\n",
    "\n",
    "## Introduction\n",
    "\n",
    "This notebook focuses on **data cleaning** and **feature engineering** for the HIV patient dataset. The dataset, referred to as the **Ampath Patient dataset**, contains **1.89 million** visit records collected over multiple years from the clinic. Each record captures essential information about a patient's visit, health status, and treatment history.\n",
    "\n",
    "#### Purpose:\n",
    "The purpose of this notebook is twofold:\n",
    "1. **Data Cleaning**:\n",
    "   - Address missing values and inconsistencies in the dataset.\n",
    "   - Prepare the data for analysis and modeling by ensuring completeness, consistency, and correctness.\n",
    "2. **Feature Engineering**:\n",
    "   - Create meaningful features that enhance predictive modeling capabilities for use cases such as patient adherence, treatment interruption, etc.\n"
   ]
  },
  {
   "cell_type": "code",
   "execution_count": 2,
   "metadata": {},
   "outputs": [
    {
     "name": "stdout",
     "output_type": "stream",
     "text": [
      "\n",
      "\u001b[1m[\u001b[0m\u001b[34;49mnotice\u001b[0m\u001b[1;39;49m]\u001b[0m\u001b[39;49m A new release of pip is available: \u001b[0m\u001b[31;49m24.3.1\u001b[0m\u001b[39;49m -> \u001b[0m\u001b[32;49m25.0.1\u001b[0m\n",
      "\u001b[1m[\u001b[0m\u001b[34;49mnotice\u001b[0m\u001b[1;39;49m]\u001b[0m\u001b[39;49m To update, run: \u001b[0m\u001b[32;49mpip install --upgrade pip\u001b[0m\n"
     ]
    }
   ],
   "source": [
    "! pip install -q pandas numpy matplotlib seaborn openpyxl matplotlib_venn"
   ]
  },
  {
   "cell_type": "code",
   "execution_count": 3,
   "metadata": {},
   "outputs": [],
   "source": [
    "import pandas as pd\n",
    "import matplotlib.pyplot as plt\n",
    "import numpy as np\n",
    "\n",
    "# ignore warnings\n",
    "import warnings\n",
    "warnings.filterwarnings('ignore')"
   ]
  },
  {
   "cell_type": "code",
   "execution_count": 4,
   "metadata": {},
   "outputs": [],
   "source": [
    "ampath_patient_data = pd.read_csv(\"data/Ampath_patient_data.csv\")"
   ]
  },
  {
   "cell_type": "markdown",
   "metadata": {},
   "source": [
    "### All available columns/features"
   ]
  },
  {
   "cell_type": "code",
   "execution_count": 5,
   "metadata": {},
   "outputs": [
    {
     "name": "stdout",
     "output_type": "stream",
     "text": [
      "<class 'pandas.core.frame.DataFrame'>\n",
      "RangeIndex: 1891863 entries, 0 to 1891862\n",
      "Data columns (total 21 columns):\n",
      " #   Column                          Dtype \n",
      "---  ------                          ----- \n",
      " 0   patient_identifier              object\n",
      " 1   person_id                       int64 \n",
      " 2   gender                          object\n",
      " 3   birthdate                       object\n",
      " 4   Encounter_Date                  object\n",
      " 5   height                          object\n",
      " 6   weight                          object\n",
      " 7   Next_clinical_appointment       object\n",
      " 8   Diagnosis_Date                  object\n",
      " 9   Tuberculosis_Treatment_Plan     int64 \n",
      " 10  Current_WHO_HIV_Stage           object\n",
      " 11  CD4_Count                       object\n",
      " 12  Is_ART                          object\n",
      " 13  Is_PMTCT                        object\n",
      " 14  Viral_Load                      object\n",
      " 15  Adherence                       object\n",
      " 16  Education_Level                 object\n",
      " 17  Screening_For_STI               int64 \n",
      " 18  Classification_Of_Malnutrition  object\n",
      " 19  Isoniazid_Use                   object\n",
      " 20  Cotrimoxazole_Use               object\n",
      "dtypes: int64(3), object(18)\n",
      "memory usage: 303.1+ MB\n"
     ]
    }
   ],
   "source": [
    "ampath_patient_data.info()"
   ]
  },
  {
   "cell_type": "markdown",
   "metadata": {},
   "source": [
    "### Checking for count of missing values"
   ]
  },
  {
   "cell_type": "code",
   "execution_count": 6,
   "metadata": {},
   "outputs": [
    {
     "data": {
      "text/plain": [
       "patient_identifier                      0\n",
       "person_id                               0\n",
       "gender                                  0\n",
       "birthdate                               0\n",
       "Encounter_Date                          0\n",
       "height                              88406\n",
       "weight                              15370\n",
       "Next_clinical_appointment          113268\n",
       "Diagnosis_Date                          0\n",
       "Tuberculosis_Treatment_Plan             0\n",
       "Current_WHO_HIV_Stage              173594\n",
       "CD4_Count                         1689694\n",
       "Is_ART                             488674\n",
       "Is_PMTCT                          1814338\n",
       "Viral_Load                        1602893\n",
       "Adherence                          959489\n",
       "Education_Level                   1813203\n",
       "Screening_For_STI                       0\n",
       "Classification_Of_Malnutrition    1891863\n",
       "Isoniazid_Use                      114640\n",
       "Cotrimoxazole_Use                  432550\n",
       "dtype: int64"
      ]
     },
     "execution_count": 6,
     "metadata": {},
     "output_type": "execute_result"
    }
   ],
   "source": [
    "# check for missing values \\N is also considered as missing value\n",
    "ampath_patient_data.replace(r'\\N', pd.NA, inplace=True)\n",
    "ampath_patient_data.isnull().sum()"
   ]
  },
  {
   "cell_type": "markdown",
   "metadata": {},
   "source": [
    "### Handling Duplicate Records\n",
    "#### Analysis\n",
    "The dataset initially contained ~2 million individual encounters, with multiple records for the same patient on the same day. These duplicate records were confirmed by the AMPATH team to occur when a variable is updated during a visit. Keeping all these records would lead to data redundancy and inaccuracies in analysis.\n",
    "\n",
    "#### Approach\n",
    "1. **Sort by `person_id` and `Encounter_Date`**:\n",
    "   - Ensures chronological order within each patient group.\n",
    "2. **Drop Duplicates**:\n",
    "   - Retain only the latest record for each combination of `person_id` and `Encounter_Date`.\n",
    "3. **Reset Index**:\n",
    "   - Reindex the cleaned dataset for consistency.\n",
    "\n",
    "\n",
    "#### Outcome\n",
    "The cleaned dataset now contains **1.7 million records**, with duplicate rows removed. Each record represents the most recent update for a given patient on a specific encounter date, ensuring data accuracy and reducing redundancy.\n",
    "\n"
   ]
  },
  {
   "cell_type": "code",
   "execution_count": 7,
   "metadata": {},
   "outputs": [
    {
     "name": "stdout",
     "output_type": "stream",
     "text": [
      "<class 'pandas.core.frame.DataFrame'>\n",
      "RangeIndex: 1706797 entries, 0 to 1706796\n",
      "Data columns (total 21 columns):\n",
      " #   Column                          Dtype         \n",
      "---  ------                          -----         \n",
      " 0   patient_identifier              object        \n",
      " 1   person_id                       int64         \n",
      " 2   gender                          object        \n",
      " 3   birthdate                       object        \n",
      " 4   Encounter_Date                  datetime64[ns]\n",
      " 5   height                          object        \n",
      " 6   weight                          object        \n",
      " 7   Next_clinical_appointment       object        \n",
      " 8   Diagnosis_Date                  object        \n",
      " 9   Tuberculosis_Treatment_Plan     int64         \n",
      " 10  Current_WHO_HIV_Stage           object        \n",
      " 11  CD4_Count                       object        \n",
      " 12  Is_ART                          object        \n",
      " 13  Is_PMTCT                        object        \n",
      " 14  Viral_Load                      object        \n",
      " 15  Adherence                       object        \n",
      " 16  Education_Level                 object        \n",
      " 17  Screening_For_STI               int64         \n",
      " 18  Classification_Of_Malnutrition  object        \n",
      " 19  Isoniazid_Use                   object        \n",
      " 20  Cotrimoxazole_Use               object        \n",
      "dtypes: datetime64[ns](1), int64(3), object(17)\n",
      "memory usage: 273.5+ MB\n",
      "None\n"
     ]
    }
   ],
   "source": [
    "# Sort by person_id and Encounter_Date (ensure Encounter_Date is datetime)\n",
    "ampath_patient_data['Encounter_Date'] = pd.to_datetime(ampath_patient_data['Encounter_Date'], errors='coerce')\n",
    "\n",
    "# Sort by person_id and Encounter_Date to ensure chronological order\n",
    "ampath_patient_data = ampath_patient_data.sort_values(by=['person_id', 'Encounter_Date'], ascending=[True, True])\n",
    "\n",
    "# Drop duplicates based on person_id and Encounter_Date, keeping the last row\n",
    "ampath_patient_data_cleaned = ampath_patient_data.drop_duplicates(subset=['person_id', 'Encounter_Date'], keep='last')\n",
    "\n",
    "ampath_patient_data_cleaned.reset_index(drop=True, inplace=True)\n",
    "\n",
    "# Display a sample of the cleaned dataset to verify\n",
    "print(ampath_patient_data_cleaned.info())\n"
   ]
  },
  {
   "cell_type": "code",
   "execution_count": 8,
   "metadata": {},
   "outputs": [],
   "source": [
    "# Save the cleaned dataset to a new CSV file\n",
    "ampath_patient_data_cleaned.to_csv('data/Ampath_patient_data_cleaned.csv', index=False)"
   ]
  },
  {
   "cell_type": "markdown",
   "metadata": {},
   "source": [
    "#### Identify Columns with High Missing Values\n",
    " In this step, we aim to identify columns with more than 50% missing values. These columns will be evaluated to decide whether they should be removed or retained based on their relevance to predicting treatment interruption.\n",
    "\n"
   ]
  },
  {
   "cell_type": "code",
   "execution_count": 9,
   "metadata": {},
   "outputs": [
    {
     "name": "stdout",
     "output_type": "stream",
     "text": [
      "Columns with >50% missing values:\n",
      "CD4_Count                          93.354101\n",
      "Is_PMTCT                           96.066726\n",
      "Viral_Load                         84.636837\n",
      "Education_Level                    96.402150\n",
      "Classification_Of_Malnutrition    100.000000\n",
      "dtype: float64\n"
     ]
    },
    {
     "data": {
      "image/png": "[encoded data removed]",
      "text/plain": [
       "<Figure size 1000x600 with 1 Axes>"
      ]
     },
     "metadata": {},
     "output_type": "display_data"
    }
   ],
   "source": [
    "# Calculate the percentage of missing values for each column\n",
    "missing_percentage = (ampath_patient_data_cleaned.isnull().sum() / len(ampath_patient_data_cleaned)) * 100\n",
    "\n",
    "# Identify columns with a high percentage of missing values (e.g., >50%)\n",
    "high_missing_columns = missing_percentage[missing_percentage > 50]\n",
    "\n",
    "# Display the columns with their missing percentages\n",
    "print(\"Columns with >50% missing values:\")\n",
    "print(high_missing_columns)\n",
    "\n",
    "\n",
    "\n",
    "plt.figure(figsize=(10, 6))\n",
    "missing_percentage.sort_values(ascending=False).plot(kind='bar', color='skyblue')\n",
    "plt.title('Percentage of Missing Values by Column')\n",
    "plt.xlabel('Columns')\n",
    "plt.ylabel('Percentage Missing')\n",
    "plt.xticks(rotation=45, ha='right')\n",
    "plt.show()\n"
   ]
  },
  {
   "cell_type": "markdown",
   "metadata": {},
   "source": [
    "### Remove Columns with High Missing Values\n",
    "In this step, we identify columns with more than 50% missing values and decide whether to keep or remove them based on their relevance to predicting treatment interruption (LTFU).\n",
    "\n",
    "### Columns to Remove:\n",
    "\n",
    "`Classification_Of_Malnutrition`: Fully missing (100%).\n",
    "\n",
    "`Education_Level`: High missingness (96.40%) and limited relevance.\n",
    "\n",
    "`Is_PMTCT`: High missingness (96.06%) and specific to a subset of patients.\n",
    "\n",
    "### Columns to Keep:\n",
    "\n",
    "`CD4_Count`: Critical predictor of disease progression.\n",
    "\n",
    "`Viral_Load`: Essential for monitoring treatment adherence."
   ]
  },
  {
   "cell_type": "code",
   "execution_count": 10,
   "metadata": {},
   "outputs": [
    {
     "name": "stdout",
     "output_type": "stream",
     "text": [
      "Remaining Columns After Dropping:\n",
      "<class 'pandas.core.frame.DataFrame'>\n",
      "RangeIndex: 1706797 entries, 0 to 1706796\n",
      "Data columns (total 18 columns):\n",
      " #   Column                       Dtype         \n",
      "---  ------                       -----         \n",
      " 0   patient_identifier           object        \n",
      " 1   person_id                    int64         \n",
      " 2   gender                       object        \n",
      " 3   birthdate                    object        \n",
      " 4   Encounter_Date               datetime64[ns]\n",
      " 5   height                       object        \n",
      " 6   weight                       object        \n",
      " 7   Next_clinical_appointment    object        \n",
      " 8   Diagnosis_Date               object        \n",
      " 9   Tuberculosis_Treatment_Plan  int64         \n",
      " 10  Current_WHO_HIV_Stage        object        \n",
      " 11  CD4_Count                    object        \n",
      " 12  Is_ART                       object        \n",
      " 13  Viral_Load                   object        \n",
      " 14  Adherence                    object        \n",
      " 15  Screening_For_STI            int64         \n",
      " 16  Isoniazid_Use                object        \n",
      " 17  Cotrimoxazole_Use            object        \n",
      "dtypes: datetime64[ns](1), int64(3), object(14)\n",
      "memory usage: 234.4+ MB\n",
      "None\n"
     ]
    }
   ],
   "source": [
    "# Remove columns that are deemed irrelevant or fully missing\n",
    "columns_to_drop = ['Classification_Of_Malnutrition', 'Education_Level', 'Is_PMTCT']\n",
    "ampath_patient_data_cleaned.drop(columns=columns_to_drop, inplace=True)\n",
    "\n",
    "# Verify remaining columns\n",
    "print(\"Remaining Columns After Dropping:\")\n",
    "print(ampath_patient_data_cleaned.info())"
   ]
  },
  {
   "cell_type": "markdown",
   "metadata": {},
   "source": [
    "### Data Type Conversion\n",
    "We are converting the columns in the dataset to their appropriate data types to ensure compatibility and efficiency for analysis and modeling. This process prepares the data for operations like mathematical calculations, date manipulations, and categorical analysis.\n",
    "\n"
   ]
  },
  {
   "cell_type": "code",
   "execution_count": 11,
   "metadata": {},
   "outputs": [
    {
     "name": "stdout",
     "output_type": "stream",
     "text": [
      "\n",
      "Updated Data Types:\n",
      "patient_identifier             string[python]\n",
      "person_id                               int64\n",
      "gender                               category\n",
      "birthdate                      datetime64[ns]\n",
      "Encounter_Date                 datetime64[ns]\n",
      "height                                float64\n",
      "weight                                float64\n",
      "Next_clinical_appointment      datetime64[ns]\n",
      "Diagnosis_Date                 datetime64[ns]\n",
      "Tuberculosis_Treatment_Plan             int64\n",
      "Current_WHO_HIV_Stage                category\n",
      "CD4_Count                             float64\n",
      "Is_ART                                float64\n",
      "Viral_Load                            float64\n",
      "Adherence                            category\n",
      "Screening_For_STI                       int64\n",
      "Isoniazid_Use                         float64\n",
      "Cotrimoxazole_Use              datetime64[ns]\n",
      "dtype: object\n"
     ]
    }
   ],
   "source": [
    "\n",
    "# 1. Convert `patient_identifier` to string\n",
    "ampath_patient_data_cleaned['patient_identifier'] = ampath_patient_data_cleaned['patient_identifier'].astype('string')\n",
    "\n",
    "# 2. `person_id` is already int64, no changes needed\n",
    "\n",
    "# 3. Convert `gender` to categorical\n",
    "ampath_patient_data_cleaned['gender'] = ampath_patient_data_cleaned['gender'].astype('category')\n",
    "\n",
    "# 4. Convert `birthdate` to datetime\n",
    "ampath_patient_data_cleaned['birthdate'] = pd.to_datetime(ampath_patient_data_cleaned['birthdate'], errors='coerce')\n",
    "\n",
    "# 5. `Encounter_Date` is already datetime, no changes needed\n",
    "\n",
    "# 6. Convert `height` and `weight` to numeric\n",
    "ampath_patient_data_cleaned['height'] = pd.to_numeric(ampath_patient_data_cleaned['height'], errors='coerce')\n",
    "ampath_patient_data_cleaned['weight'] = pd.to_numeric(ampath_patient_data_cleaned['weight'], errors='coerce')\n",
    "\n",
    "# 7. Convert `Next_clinical_appointment`, `Diagnosis_Date` and 'Cotrimoxazole_Use' to datetime\n",
    "ampath_patient_data_cleaned['Next_clinical_appointment'] = pd.to_datetime(\n",
    "    ampath_patient_data_cleaned['Next_clinical_appointment'], errors='coerce'\n",
    ")\n",
    "ampath_patient_data_cleaned['Diagnosis_Date'] = pd.to_datetime(\n",
    "    ampath_patient_data_cleaned['Diagnosis_Date'], errors='coerce'\n",
    ")\n",
    "ampath_patient_data_cleaned['Cotrimoxazole_Use'] = pd.to_datetime(\n",
    "    ampath_patient_data_cleaned['Cotrimoxazole_Use'], errors='coerce'\n",
    ")\n",
    "\n",
    "# 8. `Tuberculosis_Treatment_Plan` is already int64, no changes needed\n",
    "\n",
    "# 9. Convert `Current_WHO_HIV_Stage` to categorical\n",
    "ampath_patient_data_cleaned['Current_WHO_HIV_Stage'] = ampath_patient_data_cleaned['Current_WHO_HIV_Stage'].astype('category')\n",
    "\n",
    "# 10. Convert `CD4_Count` and `Viral_Load` to numeric\n",
    "ampath_patient_data_cleaned['CD4_Count'] = pd.to_numeric(ampath_patient_data_cleaned['CD4_Count'], errors='coerce')\n",
    "ampath_patient_data_cleaned['Viral_Load'] = pd.to_numeric(ampath_patient_data_cleaned['Viral_Load'], errors='coerce')\n",
    "\n",
    "# 11. Convert `Is_ART` and `Isoniazid_Use` to numeric\n",
    "binary_columns = ['Is_ART', 'Isoniazid_Use']\n",
    "for col in binary_columns:\n",
    "    ampath_patient_data_cleaned[col] = pd.to_numeric(ampath_patient_data_cleaned[col], errors='coerce')\n",
    "\n",
    "# 12. Convert `Adherence` to categorical\n",
    "ampath_patient_data_cleaned['Adherence'] = ampath_patient_data_cleaned['Adherence'].astype('category')\n",
    "\n",
    "# 13. `Screening_For_STI` is already int64, no changes needed\n",
    "\n",
    "# Display updated data types for verification\n",
    "print(\"\\nUpdated Data Types:\")\n",
    "print(ampath_patient_data_cleaned.dtypes)\n"
   ]
  },
  {
   "cell_type": "markdown",
   "metadata": {},
   "source": [
    "## Data Cleaning"
   ]
  },
  {
   "cell_type": "markdown",
   "metadata": {},
   "source": [
    "### Remove Rows with Missing Encounter_Date\n",
    "#### Analysis\n",
    "The `Encounter_Date` column is critical for tracking patient visits and calculating temporal features. There are very few rows where `Encounter_Date` is missing, and imputing these values could introduce inaccuracies.\n",
    "\n",
    "#### Approach\n",
    "1. **Identify Missing Rows**:\n",
    "   - Extract rows where `Encounter_Date` is null.\n",
    "2. **Remove Missing Rows**:\n",
    "   - Drop rows with missing `Encounter_Date` to ensure data integrity.\n"
   ]
  },
  {
   "cell_type": "code",
   "execution_count": 12,
   "metadata": {},
   "outputs": [],
   "source": [
    "# Identify rows with missing Encounter_Date\n",
    "rows_with_missing_dates = ampath_patient_data_cleaned[ampath_patient_data_cleaned['Encounter_Date'].isna()]\n",
    "\n",
    "# Remove rows with missing Encounter_Date\n",
    "ampath_patient_data_cleaned = ampath_patient_data_cleaned[ampath_patient_data_cleaned['Encounter_Date'].notna()]\n"
   ]
  },
  {
   "cell_type": "markdown",
   "metadata": {},
   "source": [
    "\n",
    "### Height (75,585 Missing Values)\n",
    "#### Analysis\n",
    "Height has 75,585 missing values. In adults, height is relatively stable across time, with minor variations typically due to measurement error or age-related changes. Missing values may occur due to clinicians skipping measurements when focused on more immediate health concerns.\n",
    "\n",
    "#### Approach\n",
    "1. **Within-patient temporal filling**:\n",
    "   - For patients with at least one height measurement, use forward-fill followed by backward-fill to utilize temporally adjacent measurements.\n",
    "   - This respects the biological reality that height remains relatively stable for adults.\n",
    "\n",
    "2. **Demographic-based imputation for remaining patients**:\n",
    "   - For patients with no height recorded, impute using median values stratified by gender and age groups.\n",
    "   - This approach is supported by clinical literature on anthropometric imputation."
   ]
  },
  {
   "cell_type": "code",
   "execution_count": 13,
   "metadata": {},
   "outputs": [
    {
     "name": "stdout",
     "output_type": "stream",
     "text": [
      "Missing values in age_group: 0\n",
      "Missing values in height: 0\n"
     ]
    }
   ],
   "source": [
    "# Forward and backward fill height within each patient\n",
    "ampath_patient_data_cleaned['height'] = ampath_patient_data_cleaned.groupby('person_id')['height'].transform(lambda x: x.ffill().bfill())\n",
    "\n",
    "# Calculate age at encounter (handle invalid dates)\n",
    "ampath_patient_data_cleaned['age_at_encounter'] = (\n",
    "    (ampath_patient_data_cleaned['Encounter_Date'] - pd.to_datetime(ampath_patient_data_cleaned['birthdate'], errors='coerce'))\n",
    "    .dt.days / 365.25\n",
    ")\n",
    "\n",
    "# Create age groups with corrected bins and handle missing values\n",
    "bins = [0, 18, 30, 45, 60, 120]  # Added <18 category\n",
    "labels = ['<18', '18-30', '31-45', '46-60', '61+']\n",
    "ampath_patient_data_cleaned['age_group'] = (\n",
    "    pd.cut(ampath_patient_data_cleaned['age_at_encounter'],\n",
    "           bins=bins,\n",
    "           labels=labels,\n",
    "           right=False)  # Include left bin edge\n",
    "    .cat.add_categories('unknown')\n",
    "    .fillna('unknown')  # Handle NaN from invalid/missing dates\n",
    ")\n",
    "\n",
    "# Calculate median height by gender and age group (including 'unknown')\n",
    "median_heights = ampath_patient_data_cleaned.groupby(['gender', 'age_group'])['height'].transform('median')\n",
    "\n",
    "# Final imputation\n",
    "ampath_patient_data_cleaned['height'] = ampath_patient_data_cleaned['height'].fillna(median_heights)\n",
    "\n",
    "# Verify results\n",
    "print(\"Missing values in age_group:\", ampath_patient_data_cleaned['age_group'].isna().sum())\n",
    "print(\"Missing values in height:\", ampath_patient_data_cleaned['height'].isna().sum())\n"
   ]
  },
  {
   "cell_type": "markdown",
   "metadata": {},
   "source": [
    "### Weight (14,171 Missing Values)\n",
    "\n",
    "#### Analysis\n",
    "Weight has 14,171 missing values. Unlike height, weight can fluctuate significantly over time due to disease progression, medication effects, and other health factors. In HIV treatment, weight changes can be clinically significant indicators of treatment efficacy.\n",
    "\n",
    "#### Approach\n",
    "1. **Linear interpolation within patients**:\n",
    "   - For patients with at least two weight measurements, use linear interpolation to estimate weights between known measurements.\n",
    "   - This accounts for the temporal trends in weight changes rather than assuming stability.\n",
    "\n",
    "2. **Forward/backward fill remaining gaps**:\n",
    "   - For dates beyond the range of available measurements, use forward and backward fill.\n",
    "\n",
    "3. **Demographic-based imputation for remaining patients**:\n",
    "   - For patients with no weight recorded, impute using stratified medians based on gender, age group, and HIV stage."
   ]
  },
  {
   "cell_type": "code",
   "execution_count": 14,
   "metadata": {},
   "outputs": [],
   "source": [
    "# Sort data for proper interpolation\n",
    "ampath_patient_data_cleaned = ampath_patient_data_cleaned.sort_values(['person_id', 'Encounter_Date'])\n",
    "\n",
    "# Linear interpolation within each patient\n",
    "ampath_patient_data_cleaned['weight'] = ampath_patient_data_cleaned.groupby('person_id')['weight'].transform(\n",
    "    lambda x: x.interpolate(method='linear', limit_direction='both'))\n",
    "\n",
    "# Forward/backward fill remaining gaps\n",
    "ampath_patient_data_cleaned['weight'] = ampath_patient_data_cleaned.groupby('person_id')['weight'].transform(\n",
    "    lambda x: x.ffill().bfill())\n",
    "\n",
    "# Stratified imputation for patients with no weight data\n",
    "median_weights = ampath_patient_data_cleaned.groupby(['gender', 'age_group'])['weight'].transform('median')\n",
    "ampath_patient_data_cleaned['weight'] = ampath_patient_data_cleaned['weight'].fillna(median_weights)\n"
   ]
  },
  {
   "cell_type": "markdown",
   "metadata": {},
   "source": [
    "### Next_clinical_appointment (95,749 Missing Values)\n",
    "\n",
    "#### Analysis\n",
    "This column has 95,749 missing values. Missingness here is potentially informative - it could indicate that no follow-up was scheduled, which might predict treatment interruption. Research indicates that missing appointment data is highly predictive of patient retention in HIV care.\n",
    "\n",
    "#### Approach\n",
    "1. **Binary appointment indicator**:\n",
    "   - Create a new feature (`appointment_scheduled`) indicating whether a next appointment was scheduled.\n",
    "   - This preserves the informative nature of missingness.\n",
    "\n",
    "2. **Time-based imputation**:\n",
    "   - For cases where we need date values, impute based on patient-specific appointment patterns or clinic protocols.\n",
    "   - Use median time between appointments for each patient when available.\n",
    "\n",
    "3. **Flag imputed values**:\n",
    "   - Create indicators to identify which values were imputed for transparency.\n"
   ]
  },
  {
   "cell_type": "code",
   "execution_count": 15,
   "metadata": {},
   "outputs": [
    {
     "name": "stdout",
     "output_type": "stream",
     "text": [
      "Missing values in days_to_next_actual_visit: 0\n",
      "Missing values in Next_clinical_appointment: 0\n"
     ]
    }
   ],
   "source": [
    "# Create binary indicator for scheduled appointments\n",
    "ampath_patient_data_cleaned['appointment_scheduled'] = (\n",
    "    ampath_patient_data_cleaned['Next_clinical_appointment'].notna().astype(int)\n",
    ")\n",
    "\n",
    "# Calculate days between consecutive encounters\n",
    "ampath_patient_data_cleaned['days_to_next_actual_visit'] = (\n",
    "    ampath_patient_data_cleaned.groupby('person_id')['Encounter_Date'].shift(-1) - \n",
    "    ampath_patient_data_cleaned['Encounter_Date']\n",
    ").dt.days\n",
    "\n",
    "# Impute missing days_to_next_actual_visit\n",
    "# --------------------------------------------------------\n",
    "# Calculate patient-specific median follow-up days\n",
    "median_followup = ampath_patient_data_cleaned.groupby('person_id')['days_to_next_actual_visit'].median()\n",
    "\n",
    "# Use clinic-wide median as fallback\n",
    "global_median_followup = median_followup.median()\n",
    "patient_median_followup = ampath_patient_data_cleaned['person_id'].map(median_followup).fillna(global_median_followup)\n",
    "\n",
    "# Fill missing values hierarchically\n",
    "ampath_patient_data_cleaned['days_to_next_actual_visit'] = (\n",
    "    ampath_patient_data_cleaned['days_to_next_actual_visit']\n",
    "    .fillna(patient_median_followup)\n",
    "    .astype(int)\n",
    ")\n",
    "\n",
    "# Impute missing Next_clinical_appointment dates\n",
    "# --------------------------------------------------------\n",
    "mask = ampath_patient_data_cleaned['Next_clinical_appointment'].isna()\n",
    "ampath_patient_data_cleaned.loc[mask, 'Next_clinical_appointment'] = (\n",
    "    ampath_patient_data_cleaned.loc[mask, 'Encounter_Date'] + \n",
    "    pd.to_timedelta(patient_median_followup[mask].values, unit='D')\n",
    ")\n",
    "\n",
    "# Create imputation flag\n",
    "ampath_patient_data_cleaned['next_appointment_imputed'] = mask.astype(int)\n",
    "\n",
    "# Verify results\n",
    "print(\"Missing values in days_to_next_actual_visit:\", \n",
    "      ampath_patient_data_cleaned['days_to_next_actual_visit'].isna().sum())\n",
    "print(\"Missing values in Next_clinical_appointment:\", \n",
    "      ampath_patient_data_cleaned['Next_clinical_appointment'].isna().sum())\n"
   ]
  },
  {
   "cell_type": "markdown",
   "metadata": {},
   "source": [
    "### Diagnosis_Date (Missing Values)\n",
    "\n",
    "#### Analysis\n",
    "The `Diagnosis_Date` column contains missing values for some patients. This information is critical for calculating disease duration and understanding treatment timelines. Missing diagnosis dates would prevent accurate calculation of features like \"time since diagnosis at scheduled appointment.\"\n",
    "\n",
    "#### Approach\n",
    "1. **Identify Patients with Missing Diagnosis Dates**:\n",
    "   - Extract all unique patient IDs (`person_id`) where `Diagnosis_Date` is null.\n",
    "2. **Use Earliest Encounter as Proxy**:\n",
    "   - For each patient with missing diagnosis date, use their earliest recorded `Encounter_Date` as a reasonable approximation.\n",
    "   - This assumes that the first clinical encounter likely occurred near the time of diagnosis.\n"
   ]
  },
  {
   "cell_type": "code",
   "execution_count": 16,
   "metadata": {},
   "outputs": [],
   "source": [
    "# Identify patients with missing Diagnosis_Date\n",
    "patients_missing_diagnosis = ampath_patient_data_cleaned[\n",
    "    ampath_patient_data_cleaned['Diagnosis_Date'].isna()\n",
    "]['person_id'].unique()\n",
    "\n",
    "# For patients with missing Diagnosis_Date, use their earliest Encounter_Date as proxy\n",
    "for patient in patients_missing_diagnosis:\n",
    "    earliest_encounter = ampath_patient_data_cleaned[\n",
    "        ampath_patient_data_cleaned['person_id'] == patient\n",
    "    ]['Encounter_Date'].min()\n",
    "    \n",
    "    ampath_patient_data_cleaned.loc[\n",
    "        ampath_patient_data_cleaned['person_id'] == patient, 'Diagnosis_Date'\n",
    "    ] = earliest_encounter\n"
   ]
  },
  {
   "cell_type": "markdown",
   "metadata": {},
   "source": [
    "\n",
    "#### CD4_Count and Viral_Load (1,593,365 and 1,444,579 Missing Values)\n",
    "\n",
    "##### Analysis\n",
    "These clinical markers have substantial missing values (93.4% for `CD4_Count` and 84.6% for `Viral_Load`). They are critical predictors of disease progression and treatment adherence. Missingness is addressed using a hierarchical imputation strategy that respects temporal trends while ensuring complete data.\n",
    "\n",
    "##### Approach\n",
    "1. **Forward-fill within patient groups**:\n",
    "   - Propagate recent values within each patient's timeline.\n",
    "2. **Time decay adjustment**:\n",
    "   - Apply a decay factor to forward-filled values based on time elapsed since last measurement, accounting for decreasing reliability of older data.\n",
    "3. **Median imputation for remaining missing values**:\n",
    "   - For patients with no recorded values, use population-level median as a fallback.\n",
    "\n"
   ]
  },
  {
   "cell_type": "code",
   "execution_count": 17,
   "metadata": {},
   "outputs": [
    {
     "name": "stdout",
     "output_type": "stream",
     "text": [
      "Missing values after handling:\n",
      "CD4_Count     0\n",
      "Viral_Load    0\n",
      "dtype: int64\n"
     ]
    }
   ],
   "source": [
    "# Ensure CD4_Count and Viral_Load are numeric\n",
    "ampath_patient_data_cleaned['CD4_Count'] = pd.to_numeric(ampath_patient_data_cleaned['CD4_Count'], errors='coerce')\n",
    "ampath_patient_data_cleaned['Viral_Load'] = pd.to_numeric(ampath_patient_data_cleaned['Viral_Load'], errors='coerce')\n",
    "\n",
    "# Handle CD4_Count and Viral_Load with time decay and fallback imputation\n",
    "for col in ['CD4_Count', 'Viral_Load']:\n",
    "    # Sort by person_id and Encounter_Date for proper chronological order\n",
    "    ampath_patient_data_cleaned = ampath_patient_data_cleaned.sort_values(['person_id', 'Encounter_Date'])\n",
    "    \n",
    "    # Forward-fill within patient groups\n",
    "    ampath_patient_data_cleaned[f'{col}_ffilled'] = ampath_patient_data_cleaned.groupby('person_id')[col].ffill()\n",
    "    \n",
    "    # Calculate days since last measurement\n",
    "    ampath_patient_data_cleaned[f'days_since_last_{col}'] = ampath_patient_data_cleaned.groupby('person_id').apply(\n",
    "        lambda x: (x['Encounter_Date'] - x['Encounter_Date'].shift(1)).dt.days\n",
    "    ).reset_index(level=0, drop=True)\n",
    "    \n",
    "    # Apply time decay factor (e.g., reliability decreases by 10% every 90 days)\n",
    "    decay_factor = 0.9 ** (ampath_patient_data_cleaned[f'days_since_last_{col}'] / 90)\n",
    "    mask = ampath_patient_data_cleaned[col].isna() & ampath_patient_data_cleaned[f'{col}_ffilled'].notna()\n",
    "    \n",
    "    # Apply decayed values where original is missing but forward-filled value exists\n",
    "    ampath_patient_data_cleaned.loc[mask, col] = ampath_patient_data_cleaned.loc[mask, f'{col}_ffilled'] * decay_factor\n",
    "    \n",
    "    # Drop temporary columns\n",
    "    ampath_patient_data_cleaned = ampath_patient_data_cleaned.drop([f'{col}_ffilled', f'days_since_last_{col}'], axis=1)\n",
    "    \n",
    "    # Median imputation for remaining missing values\n",
    "    median_value = ampath_patient_data_cleaned[col].median()\n",
    "    ampath_patient_data_cleaned[col] = ampath_patient_data_cleaned[col].fillna(median_value)\n",
    "\n",
    "# Verify results\n",
    "print(\"Missing values after handling:\")\n",
    "print(ampath_patient_data_cleaned[['CD4_Count', 'Viral_Load']].isna().sum())\n"
   ]
  },
  {
   "cell_type": "markdown",
   "metadata": {},
   "source": [
    "### Current_WHO_HIV_Stage (155,009 Missing Values)\n",
    "\n",
    "#### Analysis\n",
    "Current_WHO_HIV_Stage has 155,009 missing values. This feature represents the clinical staging of HIV disease severity according to WHO classification (Stage 1-4).\n",
    "\n",
    "#### Approach\n",
    "1. **Forward-fill within patient groups**:\n",
    "   - Forward-fill WHO HIV stage values within each patient group, as this clinical assessment typically changes infrequently.\n",
    "   - This preserves the temporal progression of disease staging.\n",
    "\n",
    "2. **Create 'unknown' category for remaining missing values**:\n",
    "   - For patients with no WHO stage recorded, create and assign an 'unknown' category.\n",
    "   - This approach preserves information about missingness, which may itself be clinically meaningful.\n",
    "   - Clinical appropriateness: WHO staging is a clinical assessment that shouldn't be estimated through statistical methods.\n",
    "   - Avoids bias from backward filling, as a patient's condition can improve or deteriorate over time.\n",
    "   - Maintains clear interpretability for healthcare providers.\n",
    "\n"
   ]
  },
  {
   "cell_type": "code",
   "execution_count": 18,
   "metadata": {},
   "outputs": [],
   "source": [
    "# Forward-fill WHO HIV stage (changes infrequently)\n",
    "ampath_patient_data_cleaned['Current_WHO_HIV_Stage'] = ampath_patient_data_cleaned.groupby('person_id')['Current_WHO_HIV_Stage'].ffill()\n",
    "\n",
    "# For patients with no WHO stage, create 'unknown' category\n",
    "if ampath_patient_data_cleaned['Current_WHO_HIV_Stage'].isna().any():\n",
    "    # Get current categories\n",
    "    current_categories = ampath_patient_data_cleaned['Current_WHO_HIV_Stage'].cat.categories.tolist()\n",
    "    # Add 'unknown' category\n",
    "    new_categories = current_categories + ['unknown']\n",
    "    # Update categorical type with new categories\n",
    "    ampath_patient_data_cleaned['Current_WHO_HIV_Stage'] = ampath_patient_data_cleaned['Current_WHO_HIV_Stage'].cat.set_categories(new_categories)\n",
    "    # Fill NAs with 'unknown'\n",
    "    ampath_patient_data_cleaned['Current_WHO_HIV_Stage'] = ampath_patient_data_cleaned['Current_WHO_HIV_Stage'].fillna('unknown')\n"
   ]
  },
  {
   "cell_type": "markdown",
   "metadata": {},
   "source": [
    "### Treatment Columns (Is_ART, Isoniazid_Use)\n",
    "\n",
    "#### Analysis\n",
    "The treatment columns `Is_ART` and `Isoniazid_Use` contain missing values. These columns indicate whether a patient is on antiretroviral therapy (ART) and isoniazid preventive therapy, respectively. Treatment status typically remains consistent over time unless explicitly changed.\n",
    "\n",
    "#### Approach\n",
    "1. **Forward-fill within patient groups**:\n",
    "   - Propagate known treatment status forward within each patient's timeline.\n",
    "   - This assumes that once treatment starts, it continues until explicitly stopped.\n",
    "\n",
    "2. **Backward-fill within patient groups**:\n",
    "   - Fill gaps at the beginning of the timeline by propagating values backward.\n",
    "   - This ensures complete treatment history for each patient.\n",
    "\n",
    "3. **Fill remaining missing values**:\n",
    "   - For patients with no recorded treatment status, fill with 0 (indicating no medication).\n",
    "   - This provides a conservative assumption for patients with no treatment data.\n"
   ]
  },
  {
   "cell_type": "code",
   "execution_count": 19,
   "metadata": {},
   "outputs": [],
   "source": [
    "# Define treatment columns\n",
    "treatment_cols = ['Is_ART', 'Isoniazid_Use']\n",
    "\n",
    "# Handle Is_ART and Isoniazid_Use\n",
    "for col in treatment_cols:\n",
    "    # Forward-fill treatment status within each patient group\n",
    "    ampath_patient_data_cleaned[col] = ampath_patient_data_cleaned.groupby('person_id')[col].ffill()\n",
    "\n",
    "    # Backward-fill treatment status within each patient group\n",
    "    ampath_patient_data_cleaned[col] = ampath_patient_data_cleaned.groupby('person_id')[col].bfill()\n",
    "\n",
    "    # Fill remaining missing values with 0 (indicating no medication)\n",
    "    ampath_patient_data_cleaned[col] = ampath_patient_data_cleaned[col].fillna(0)\n"
   ]
  },
  {
   "cell_type": "markdown",
   "metadata": {},
   "source": [
    "\n",
    "\n",
    "\n",
    "#### Cotrimoxazole_Use and Cotrimoxazole_duration\n",
    "\n",
    "##### Analysis\n",
    "The `Cotrimoxazole_Use` column records the start date of Cotrimoxazole usage, while `Cotrimoxazole_duration` represents the number of days a patient has been on the medication. \n",
    "\n",
    "##### Approach\n",
    "1. **Forward-fill within patient groups**:\n",
    "   - Propagate known usage dates forward within each patient's timeline.\n",
    "2. **Fill missing values with earliest encounter date**:\n",
    "   - For patients with no recorded usage, fill missing values in `Cotrimoxazole_Use` with their earliest `Encounter_Date`.\n",
    "3. **Calculate duration**:\n",
    "   - Compute the difference between `Encounter_Date` and the first recorded usage date.\n",
    "4. **Ensure completeness**:\n",
    "   - Fill any remaining missing durations with 0 to indicate no usage history.\n",
    "\n"
   ]
  },
  {
   "cell_type": "code",
   "execution_count": 20,
   "metadata": {},
   "outputs": [
    {
     "name": "stdout",
     "output_type": "stream",
     "text": [
      "Missing values in Cotrimoxazole columns after handling:\n",
      "Cotrimoxazole_Use         0\n",
      "Cotrimoxazole_duration    0\n",
      "dtype: int64\n"
     ]
    }
   ],
   "source": [
    "# Ensure Cotrimoxazole_Use is in datetime format\n",
    "ampath_patient_data_cleaned['Cotrimoxazole_Use'] = pd.to_datetime(\n",
    "    ampath_patient_data_cleaned['Cotrimoxazole_Use'], errors='coerce'\n",
    ")\n",
    "\n",
    "# Forward-fill Cotrimoxazole_Use within each patient group\n",
    "ampath_patient_data_cleaned['Cotrimoxazole_Use'] = ampath_patient_data_cleaned.groupby('person_id')['Cotrimoxazole_Use'].ffill()\n",
    "\n",
    "# Fill remaining missing Cotrimoxazole_Use with earliest Encounter_Date for each patient\n",
    "earliest_encounter = ampath_patient_data_cleaned.groupby('person_id')['Encounter_Date'].transform('min')\n",
    "ampath_patient_data_cleaned['Cotrimoxazole_Use'] = ampath_patient_data_cleaned['Cotrimoxazole_Use'].fillna(earliest_encounter)\n",
    "\n",
    "# Calculate first Cotrimoxazole use date for each patient\n",
    "first_cotrimoxazole_use = ampath_patient_data_cleaned.groupby('person_id')['Cotrimoxazole_Use'].transform('first')\n",
    "\n",
    "# Calculate duration as the difference between Encounter_Date and first Cotrimoxazole_Use date\n",
    "ampath_patient_data_cleaned['Cotrimoxazole_duration'] = (\n",
    "    ampath_patient_data_cleaned['Encounter_Date'] - first_cotrimoxazole_use\n",
    ").dt.days\n",
    "\n",
    "# Fill any remaining missing values in duration with 0 (e.g., for patients with no valid dates)\n",
    "ampath_patient_data_cleaned['Cotrimoxazole_duration'] = ampath_patient_data_cleaned['Cotrimoxazole_duration'].fillna(0).astype(int)\n",
    "\n",
    "# Verify results\n",
    "print(\"Missing values in Cotrimoxazole columns after handling:\")\n",
    "print(ampath_patient_data_cleaned[['Cotrimoxazole_Use', 'Cotrimoxazole_duration']].isna().sum())\n"
   ]
  },
  {
   "cell_type": "markdown",
   "metadata": {},
   "source": [
    "\n",
    "#### Adherence (Categorical Missing Values)\n",
    "\n",
    "##### Analysis\n",
    "The `Adherence` column represents patient-reported medication compliance, which is a key predictor of treatment interruption and retention. Missing values are addressed using simple imputation techniques that preserve categorical distributions.\n",
    "\n",
    "##### Approach\n",
    "1. **Forward-fill and backward-fill within patient groups**:\n",
    "   - Propagate known adherence levels within each patient's timeline to fill gaps.\n",
    "2. **Mode imputation for remaining missing values**:\n",
    "   - Fill missing values using the most frequent adherence category (`mode`) as a fallback.\n",
    "\n"
   ]
  },
  {
   "cell_type": "code",
   "execution_count": 21,
   "metadata": {},
   "outputs": [
    {
     "name": "stdout",
     "output_type": "stream",
     "text": [
      "Missing values after handling:\n",
      "Adherence    0\n",
      "dtype: int64\n"
     ]
    }
   ],
   "source": [
    "ampath_patient_data_cleaned['Adherence'] = ampath_patient_data_cleaned.groupby('person_id')['Adherence'].ffill()\n",
    "ampath_patient_data_cleaned['Adherence'] = ampath_patient_data_cleaned.groupby('person_id')['Adherence'].bfill()\n",
    "\n",
    "# Fill remaining missing values in Adherence with mode\n",
    "mode_value = ampath_patient_data_cleaned['Adherence'].mode()[0]\n",
    "ampath_patient_data_cleaned['Adherence'] = ampath_patient_data_cleaned['Adherence'].fillna(mode_value)\n",
    "\n",
    "# Verify results\n",
    "print(\"Missing values after handling:\")\n",
    "print(ampath_patient_data_cleaned[[ 'Adherence']].isna().sum())"
   ]
  },
  {
   "cell_type": "markdown",
   "metadata": {},
   "source": [
    "## Data Cleaning Summary  \n",
    "The original dataset contained **significant missing values** across critical clinical and demographic columns. After systematic cleaning:  \n",
    "- **All missing values** have been resolved (all columns now show `0` missing values).  \n",
    "- **Irrelevant columns** with near-complete missingness (e.g., `Classification_Of_Malnutrition`) were removed.  \n",
    "- **New features** like `appointment_scheduled` and `Cotrimoxazole_duration` were added during the process.  \n",
    "\n",
    "The dataset is now **complete and consistent**, with all null values addressed. This sets the stage for focused **feature engineering**.\n",
    "\n"
   ]
  },
  {
   "cell_type": "markdown",
   "metadata": {},
   "source": [
    "### Null values present in the orginal dataset"
   ]
  },
  {
   "cell_type": "code",
   "execution_count": 22,
   "metadata": {},
   "outputs": [
    {
     "data": {
      "text/plain": [
       "patient_identifier                      0\n",
       "person_id                               0\n",
       "gender                                  0\n",
       "birthdate                               0\n",
       "Encounter_Date                          2\n",
       "height                              88406\n",
       "weight                              15370\n",
       "Next_clinical_appointment          113268\n",
       "Diagnosis_Date                          0\n",
       "Tuberculosis_Treatment_Plan             0\n",
       "Current_WHO_HIV_Stage              173594\n",
       "CD4_Count                         1689694\n",
       "Is_ART                             488674\n",
       "Is_PMTCT                          1814338\n",
       "Viral_Load                        1602893\n",
       "Adherence                          959489\n",
       "Education_Level                   1813203\n",
       "Screening_For_STI                       0\n",
       "Classification_Of_Malnutrition    1891863\n",
       "Isoniazid_Use                      114640\n",
       "Cotrimoxazole_Use                  432550\n",
       "dtype: int64"
      ]
     },
     "execution_count": 22,
     "metadata": {},
     "output_type": "execute_result"
    }
   ],
   "source": [
    "ampath_patient_data.isnull().sum()"
   ]
  },
  {
   "cell_type": "markdown",
   "metadata": {},
   "source": [
    "### Null values present in the cleaned dataset"
   ]
  },
  {
   "cell_type": "code",
   "execution_count": 23,
   "metadata": {},
   "outputs": [
    {
     "data": {
      "text/plain": [
       "patient_identifier             0\n",
       "person_id                      0\n",
       "gender                         0\n",
       "birthdate                      0\n",
       "Encounter_Date                 0\n",
       "height                         0\n",
       "weight                         0\n",
       "Next_clinical_appointment      0\n",
       "Diagnosis_Date                 0\n",
       "Tuberculosis_Treatment_Plan    0\n",
       "Current_WHO_HIV_Stage          0\n",
       "CD4_Count                      0\n",
       "Is_ART                         0\n",
       "Viral_Load                     0\n",
       "Adherence                      0\n",
       "Screening_For_STI              0\n",
       "Isoniazid_Use                  0\n",
       "Cotrimoxazole_Use              0\n",
       "age_at_encounter               0\n",
       "age_group                      0\n",
       "appointment_scheduled          0\n",
       "days_to_next_actual_visit      0\n",
       "next_appointment_imputed       0\n",
       "Cotrimoxazole_duration         0\n",
       "dtype: int64"
      ]
     },
     "execution_count": 23,
     "metadata": {},
     "output_type": "execute_result"
    }
   ],
   "source": [
    "ampath_patient_data_cleaned.isnull().sum()"
   ]
  },
  {
   "cell_type": "code",
   "execution_count": 24,
   "metadata": {},
   "outputs": [],
   "source": [
    "# Save the cleaned dataset to a new CSV file\n",
    "ampath_patient_data_cleaned.to_csv('data/Ampath_patient_data_cleaned.csv', index=False)"
   ]
  },
  {
   "cell_type": "markdown",
   "metadata": {},
   "source": [
    "## Feature Engineering  \n",
    "\n",
    "This section creates predictive features focused on **treatment adherence patterns** and **clinical engagement history**. All features will be calculated using temporal patient data.\n",
    "\n",
    "---\n",
    "\n",
    "#### **1. Patient Age at Scheduled Appointment**  \n",
    "**Purpose**: Capture age-related adherence patterns  \n",
    "**Calculation**:  \n",
    "`Age = (Next_clinical_appointment - birthdate).years`\n",
    "\n",
    "---\n",
    "\n",
    "#### **2. Time Since Diagnosis at Scheduled Appointment**  \n",
    "**Purpose**: Understand disease progression context  \n",
    "**Calculation**:  \n",
    "`Days = Next_clinical_appointment - Diagnosis_Date`\n",
    "\n",
    "---\n",
    "\n",
    "#### **3. Duration on Cotrimoxazole at Scheduled Appointment**  \n",
    "**Purpose**: Track preventive therapy adherence  \n",
    "**Calculation**:  \n",
    "`Days = Next_clinical_appointment - First_Cotrimoxazole_Use`\n",
    "\n",
    "---\n",
    "\n",
    "#### **4. Temporal Patterns**  \n",
    "| Feature | Purpose |  \n",
    "|---------|---------|  \n",
    "| **Day of week** | Identify weekly attendance trends |  \n",
    "| **Month** | Detect seasonal visit patterns |  \n",
    "\n",
    "---\n",
    "\n",
    "#### **5. Visit History Features**  \n",
    "| Feature | Calculation |  \n",
    "|---------|-------------|  \n",
    "| **Number of past encounters** | Cumulative count per patient |  \n",
    "| **% Early arrivals** | `(Arrived ≤3 days early) / Total visits` |  \n",
    "| **% On-time arrivals** | `(Arrived ±2 days of appointment) / Total visits` |  \n",
    "| **% Late arrivals** | `(Arrived ≥3 days late) / Total visits` |  \n",
    "\n",
    "---\n",
    "\n",
    "#### **6. Treatment Interruption (IIT) Features**  \n",
    "| Feature | Definition |  \n",
    "|---------|-------------|  \n",
    "| **Number of past IITs** | Count of previous interruptions (>30 days late) |  \n",
    "| **% Past IITs** | `(Past IITs) / (Total visits)` |  \n",
    "| **Previous appointment IIT status** | Binary flag for last visit |  \n",
    "| **Second-to-last IIT status** | Binary flag for penultimate visit |  \n",
    "\n"
   ]
  },
  {
   "cell_type": "code",
   "execution_count": 25,
   "metadata": {},
   "outputs": [],
   "source": [
    "# Create a new dataset for feature engineering by copying the cleaned dataset\n",
    "ampath_patient_data_feature_engineering = ampath_patient_data_cleaned.copy()\n"
   ]
  },
  {
   "cell_type": "markdown",
   "metadata": {},
   "source": [
    "#### Patient Age at Scheduled Appointment\n",
    "**Purpose**: Analyze age-related adherence patterns."
   ]
  },
  {
   "cell_type": "code",
   "execution_count": 26,
   "metadata": {},
   "outputs": [],
   "source": [
    "# Convert 'birthdate' to datetime format\n",
    "ampath_patient_data_feature_engineering['birthdate'] = pd.to_datetime(\n",
    "    ampath_patient_data_feature_engineering['birthdate'], errors='coerce'\n",
    ")\n",
    "\n",
    "# Calculate age at scheduled appointment\n",
    "ampath_patient_data_feature_engineering['age_at_scheduled_appointment'] = (\n",
    "    ampath_patient_data_feature_engineering['Next_clinical_appointment'] - ampath_patient_data_feature_engineering['birthdate']\n",
    ").dt.days / 365.25\n"
   ]
  },
  {
   "cell_type": "markdown",
   "metadata": {},
   "source": [
    "\n",
    "\n",
    "#### Time Since Diagnosis at Scheduled Appointment\n",
    "**Purpose**: Track disease progression timeline.\n",
    "\n",
    "\n",
    "\n"
   ]
  },
  {
   "cell_type": "code",
   "execution_count": 27,
   "metadata": {},
   "outputs": [],
   "source": [
    "# Convert 'Diagnosis_Date' to datetime format\n",
    "ampath_patient_data_feature_engineering['Diagnosis_Date'] = pd.to_datetime(\n",
    "    ampath_patient_data_feature_engineering['Diagnosis_Date'], errors='coerce'\n",
    ")\n",
    "\n",
    "# Calculate time since diagnosis at scheduled appointment\n",
    "ampath_patient_data_feature_engineering['time_since_diagnosis_at_scheduled_appointment'] = (\n",
    "    ampath_patient_data_feature_engineering['Next_clinical_appointment'] - ampath_patient_data_feature_engineering['Diagnosis_Date']\n",
    ").dt.days\n"
   ]
  },
  {
   "cell_type": "markdown",
   "metadata": {},
   "source": [
    "#### Duration on Cotrimoxazole at Scheduled Appointment\n",
    "**Purpose**: Measure adherence to preventive therapy.\n",
    "\n"
   ]
  },
  {
   "cell_type": "code",
   "execution_count": 28,
   "metadata": {},
   "outputs": [],
   "source": [
    "# Convert 'Cotrimoxazole_Use' to datetime format\n",
    "ampath_patient_data_feature_engineering['Cotrimoxazole_Use'] = pd.to_datetime(\n",
    "    ampath_patient_data_feature_engineering['Cotrimoxazole_Use'], errors='coerce'\n",
    ")\n",
    "\n",
    "# Calculate duration on Cotrimoxazole at scheduled appointment\n",
    "ampath_patient_data_feature_engineering['duration_on_cotrimoxazole_at_scheduled_appointment'] = (\n",
    "    ampath_patient_data_feature_engineering['Next_clinical_appointment'] - ampath_patient_data_feature_engineering['Cotrimoxazole_Use']\n",
    ").dt.days\n"
   ]
  },
  {
   "cell_type": "markdown",
   "metadata": {},
   "source": [
    "#### Day of Week\n",
    "**Purpose**: Identify weekly patterns in clinic visits.\n",
    "\n"
   ]
  },
  {
   "cell_type": "code",
   "execution_count": 29,
   "metadata": {},
   "outputs": [],
   "source": [
    "# Ensure Encounter_Date is in datetime format\n",
    "ampath_patient_data_feature_engineering['Encounter_Date'] = pd.to_datetime(\n",
    "    ampath_patient_data_feature_engineering['Encounter_Date'], errors='coerce'\n",
    ")\n",
    "\n",
    "# Extract day of the week from Encounter_Date\n",
    "ampath_patient_data_feature_engineering['day_of_week'] = ampath_patient_data_feature_engineering['Encounter_Date'].dt.day_name()"
   ]
  },
  {
   "cell_type": "markdown",
   "metadata": {},
   "source": [
    "#### Month of Encounter\n",
    "**Purpose**: Detect seasonal trends in patient engagement.\n"
   ]
  },
  {
   "cell_type": "code",
   "execution_count": 30,
   "metadata": {},
   "outputs": [],
   "source": [
    "# Ensure Encounter_Date is in datetime format\n",
    "ampath_patient_data_feature_engineering['Encounter_Date'] = pd.to_datetime(\n",
    "    ampath_patient_data_feature_engineering['Encounter_Date'], errors='coerce'\n",
    ")\n",
    "\n",
    "# Extract month from Encounter_Date\n",
    "ampath_patient_data_feature_engineering['month_encounter'] = ampath_patient_data_feature_engineering['Encounter_Date'].dt.month_name()\n"
   ]
  },
  {
   "cell_type": "markdown",
   "metadata": {},
   "source": [
    "#### Number of Past Encounters\n",
    "**Purpose**: Quantify patient engagement history."
   ]
  },
  {
   "cell_type": "code",
   "execution_count": 31,
   "metadata": {},
   "outputs": [],
   "source": [
    "# Calculate number of past encounters for each patient up to each encounter date\n",
    "ampath_patient_data_feature_engineering['past_encounters'] = (\n",
    "    ampath_patient_data_feature_engineering.groupby('person_id').cumcount()\n",
    ")"
   ]
  },
  {
   "cell_type": "markdown",
   "metadata": {},
   "source": [
    "### Arrival Pattern Features  \n",
    "**Purpose**: Quantify historical adherence to scheduled appointments by calculating cumulative percentages of early, on-time, and late arrivals.  \n",
    "\n",
    "#### Features  \n",
    "- **Percentage of Early Arrivals**: Visits occurring ≥3 days before scheduled appointment  \n",
    "- **Percentage of On-Time Arrivals**: Visits within ±2 days of scheduled appointment  \n",
    "- **Percentage of Late Arrivals**: Visits occurring ≥3 days after scheduled appointment  \n"
   ]
  },
  {
   "cell_type": "code",
   "execution_count": 32,
   "metadata": {},
   "outputs": [],
   "source": [
    "# Calculate days difference between actual visit and scheduled appointment\n",
    "ampath_patient_data_feature_engineering['days_diff_appt'] = (\n",
    "    (ampath_patient_data_feature_engineering['Encounter_Date'] - \n",
    "     ampath_patient_data_feature_engineering['Next_clinical_appointment'].shift(1))\n",
    "    .dt.days\n",
    ")\n",
    "\n",
    "# Define arrival categories with dtype-safe default\n",
    "conditions = [\n",
    "    (ampath_patient_data_feature_engineering['days_diff_appt'] <= -3),  # Early\n",
    "    (abs(ampath_patient_data_feature_engineering['days_diff_appt']) <= 2),  # On-time\n",
    "    (ampath_patient_data_feature_engineering['days_diff_appt'] >= 3)  # Late\n",
    "]\n",
    "choices = ['early', 'on_time', 'late']\n",
    "ampath_patient_data_feature_engineering['arrival_category'] = np.select(\n",
    "    conditions, choices, default='unknown'\n",
    ")\n",
    "\n",
    "# Convert 'unknown' to NaN for proper missing value handling\n",
    "ampath_patient_data_feature_engineering['arrival_category'] = (\n",
    "    ampath_patient_data_feature_engineering['arrival_category']\n",
    "    .replace('unknown', np.nan)\n",
    ")\n",
    "\n",
    "# Calculate cumulative percentages (excludes NaN automatically)\n",
    "for category in ['early', 'on_time', 'late']:\n",
    "    ampath_patient_data_feature_engineering[f'pct_{category}_arrivals'] = (\n",
    "        ampath_patient_data_feature_engineering\n",
    "        .groupby('person_id')['arrival_category']\n",
    "        .transform(lambda x: (x == category).expanding().mean())\n",
    "    )\n",
    "\n",
    "# Cleanup intermediate columns\n",
    "ampath_patient_data_feature_engineering = ampath_patient_data_feature_engineering.drop(\n",
    "    ['days_diff_appt', 'arrival_category'], axis=1\n",
    ")\n"
   ]
  },
  {
   "cell_type": "markdown",
   "metadata": {},
   "source": [
    "### Number of Past Interruptions in Treatment (IITs)\n",
    "\n",
    "**Purpose**: Track the cumulative count of treatment interruptions for each patient over time. This feature helps identify patients with a history of inconsistent engagement with their treatment plan.\n",
    "\n",
    "#### Definition\n",
    "An Interruption in Treatment (IIT) occurs when a patient is more than 28 days late to a scheduled appointment.\n"
   ]
  },
  {
   "cell_type": "code",
   "execution_count": 33,
   "metadata": {},
   "outputs": [
    {
     "name": "stdout",
     "output_type": "stream",
     "text": [
      "Number of patients: 28936\n",
      "Max IITs per patient: 65\n"
     ]
    }
   ],
   "source": [
    "# Calculate days_diff_appt (if not already done)\n",
    "ampath_patient_data_feature_engineering['days_diff_appt'] = (\n",
    "    (ampath_patient_data_feature_engineering['Encounter_Date'] - \n",
    "     ampath_patient_data_feature_engineering['Next_clinical_appointment'].shift(1))\n",
    "    .dt.days\n",
    ")\n",
    "\n",
    "# Create binary flag for IIT events\n",
    "ampath_patient_data_feature_engineering['iit_flag'] = (\n",
    "    (ampath_patient_data_feature_engineering['days_diff_appt'] > 28)\n",
    "    .astype(int)\n",
    ")\n",
    "\n",
    "# Calculate patient-specific past IITs (corrected)\n",
    "ampath_patient_data_feature_engineering['num_past_iits'] = (\n",
    "    ampath_patient_data_feature_engineering\n",
    "    .groupby('person_id')['iit_flag']\n",
    "    .transform(lambda x: x.cumsum().shift(1).fillna(0))\n",
    "    .astype(int)\n",
    ")\n",
    "\n",
    "# Cleanup\n",
    "ampath_patient_data_feature_engineering = ampath_patient_data_feature_engineering.drop(\n",
    "    ['days_diff_appt', 'iit_flag'], axis=1\n",
    ")\n",
    "\n",
    "# Validation\n",
    "print(\"Number of patients:\", ampath_patient_data_feature_engineering['person_id'].nunique())\n",
    "print(\"Max IITs per patient:\", ampath_patient_data_feature_engineering['num_past_iits'].max())\n"
   ]
  },
  {
   "cell_type": "markdown",
   "metadata": {},
   "source": [
    "### Percentage of Past IITs\n",
    "\n",
    "**Purpose**:\n",
    "The **percentage of past IITs** measures the proportion of visits where a patient experienced an Interruption in Treatment (IIT). This feature provides a **relative measure** of adherence by contextualizing the number of IITs against the total number of past encounters. It is particularly useful for identifying patients with consistently poor adherence patterns.\n",
    "\n",
    "**Formula**:  \n",
    "$$\n",
    "\\text{Percentage of Past IITs} = \\frac{\\text{Number of Past IITs}}{\\text{Total Past Encounters}}\n",
    "$$\n",
    "\n",
    "#### **Difference from Number of Past IITs**\n",
    "- **Number of Past IITs**: Absolute count of interruptions.\n",
    "- **Percentage of Past IITs**: Relative frequency of interruptions compared to total visits.\n"
   ]
  },
  {
   "cell_type": "code",
   "execution_count": 34,
   "metadata": {},
   "outputs": [],
   "source": [
    "\n",
    "# Calculate percentage of past IITs\n",
    "ampath_patient_data_feature_engineering['pct_past_iits'] = (\n",
    "    ampath_patient_data_feature_engineering['num_past_iits'] / \n",
    "    ampath_patient_data_feature_engineering['past_encounters']\n",
    ")\n",
    "\n",
    "# Handle division by zero (e.g., first encounter with no past encounters)\n",
    "ampath_patient_data_feature_engineering['pct_past_iits'] = (\n",
    "    ampath_patient_data_feature_engineering['pct_past_iits']\n",
    "    .fillna(0)  # Patients with no past encounters will have 0% IITs\n",
    ")\n",
    "\n"
   ]
  },
  {
   "cell_type": "markdown",
   "metadata": {},
   "source": [
    "### Previous Appointment IIT Status\n",
    "\n",
    "**Purpose**:\n",
    "This feature indicates whether a patient's immediately preceding appointment was classified as an Interruption in Treatment (IIT). It provides insight into the patient's most recent adherence behavior, which can be a strong predictor of future appointment attendance.\n",
    "\n",
    "#### Definition\n",
    "- An appointment is classified as an IIT if the patient was more than 28 days late to their scheduled visit.\n",
    "- The \"Previous Appointment IIT Status\" is a binary flag (0 or 1) indicating whether the patient's last appointment before the current one was an IIT.\n"
   ]
  },
  {
   "cell_type": "code",
   "execution_count": 35,
   "metadata": {},
   "outputs": [],
   "source": [
    "\n",
    "# Ensure we have the 'iit_flag' from previous calculations\n",
    "if 'iit_flag' not in ampath_patient_data_feature_engineering.columns:\n",
    "    # Calculate days difference between actual visit and scheduled appointment\n",
    "    ampath_patient_data_feature_engineering['days_diff_appt'] = (\n",
    "        (ampath_patient_data_feature_engineering['Encounter_Date'] - \n",
    "         ampath_patient_data_feature_engineering['Next_clinical_appointment'].shift(1))\n",
    "        .dt.days\n",
    "    )\n",
    "    \n",
    "    # Create binary flag for IIT events\n",
    "    ampath_patient_data_feature_engineering['iit_flag'] = (\n",
    "        ampath_patient_data_feature_engineering['days_diff_appt'] > 28\n",
    "    ).astype(int)\n",
    "\n",
    "# Calculate previous appointment IIT status\n",
    "ampath_patient_data_feature_engineering['prev_iit_status'] = (\n",
    "    ampath_patient_data_feature_engineering\n",
    "    .groupby('person_id')['iit_flag']\n",
    "    .shift(1)\n",
    "    .fillna(0)\n",
    "    .astype(int)\n",
    ")\n",
    "\n",
    "# Clean up intermediate columns if they were created in this step\n",
    "if 'days_diff_appt' in ampath_patient_data_feature_engineering.columns:\n",
    "    ampath_patient_data_feature_engineering = ampath_patient_data_feature_engineering.drop('days_diff_appt', axis=1)\n",
    "\n",
    "\n"
   ]
  },
  {
   "cell_type": "markdown",
   "metadata": {},
   "source": [
    "### Second-to-Last Appointment IIT Status\n",
    "\n",
    "**Purpose**:\n",
    "This feature indicates whether a patient’s **second-to-last appointment** was an Interruption in Treatment (IIT). It helps identify patterns in adherence behavior over time.\n"
   ]
  },
  {
   "cell_type": "code",
   "execution_count": 36,
   "metadata": {},
   "outputs": [],
   "source": [
    "\n",
    "# Ensure 'iit_flag' exists (from previous calculations)\n",
    "if 'iit_flag' not in ampath_patient_data_feature_engineering.columns:\n",
    "    # Calculate 'days_diff_appt' between actual and scheduled appointments\n",
    "    ampath_patient_data_feature_engineering['days_diff_appt'] = (\n",
    "        (ampath_patient_data_feature_engineering['Encounter_Date'] - \n",
    "         ampath_patient_data_feature_engineering['Next_clinical_appointment'].shift(1))\n",
    "        .dt.days\n",
    "    )\n",
    "    # Define IIT as >28 days late\n",
    "    ampath_patient_data_feature_engineering['iit_flag'] = (\n",
    "        ampath_patient_data_feature_engineering['days_diff_appt'] > 28\n",
    "    ).astype(int)\n",
    "\n",
    "# Calculate second-to-last IIT status (patient-wise)\n",
    "ampath_patient_data_feature_engineering['second_last_iit_status'] = (\n",
    "    ampath_patient_data_feature_engineering\n",
    "    .groupby('person_id')['iit_flag']\n",
    "    .shift(2)  # Look back two appointments\n",
    "    .fillna(0)  # No prior appointments = 0\n",
    "    .astype(int)\n",
    ")\n",
    "\n",
    "# Cleanup intermediate columns if created\n",
    "if 'days_diff_appt' in ampath_patient_data_feature_engineering.columns:\n",
    "    ampath_patient_data_feature_engineering = ampath_patient_data_feature_engineering.drop('days_diff_appt', axis=1)\n"
   ]
  },
  {
   "cell_type": "markdown",
   "metadata": {},
   "source": [
    "### Overall Appointment Success Percentage\n",
    "\n",
    " **Purpose:**  \n",
    "This feature calculates the percentage of appointments successfully attended by a patient, providing a clear metric for adherence reliability.\n",
    "\n",
    " **Explanation:**  \n",
    "The formula subtracts the number of past IITs (`num_past_iits`) from the total number of past encounters (`past_encounters`) and divides it by the total encounters to compute the success percentage:  \n",
    "\n",
    "$$\n",
    "\\text{overall\\_appointment\\_success} = \\left( \\frac{\\text{past\\_encounters} - \\text{num\\_past\\_iits}}{\\text{past\\_encounters}} \\right) \\times 100\n",
    "$$  \n",
    "\n",
    "- Patients with no past encounters default to **100% success**.  \n",
    "- Patients with all IITs result in **0% success**.  \n",
    "\n",
    "This feature helps identify reliable patients and those needing intervention."
   ]
  },
  {
   "cell_type": "code",
   "execution_count": null,
   "metadata": {},
   "outputs": [
    {
     "name": "stdout",
     "output_type": "stream",
     "text": [
      "    person_id  past_encounters  num_past_iits  overall_appointment_success\n",
      "0          46                0              0                        100.0\n",
      "1          46                1              0                        100.0\n",
      "2          46                2              0                        100.0\n",
      "3          46                3              0                        100.0\n",
      "4          46                4              0                        100.0\n",
      "5          46                5              0                        100.0\n",
      "6          46                6              0                        100.0\n",
      "7          46                7              0                        100.0\n",
      "8          46                8              0                        100.0\n",
      "9          46                9              0                        100.0\n",
      "10         46               10              0                        100.0\n",
      "11         46               11              0                        100.0\n",
      "12         46               12              0                        100.0\n",
      "13         46               13              0                        100.0\n",
      "14         46               14              0                        100.0\n",
      "15         46               15              0                        100.0\n",
      "16         46               16              1                         94.0\n",
      "17         46               17              1                         94.0\n",
      "18         46               18              2                         89.0\n"
     ]
    }
   ],
   "source": [
    "# Function to calculate overall appointment success percentage\n",
    "def calculate_appointment_success(df):\n",
    "    # Avoid division by zero for new patients\n",
    "    df['overall_appointment_success'] = (\n",
    "        (df['past_encounters'] - df['num_past_iits']) / df['past_encounters'] * 100\n",
    "    ).fillna(100)  # Default to 100% for new patients\n",
    "    \n",
    "    # Round to nearest integer for cleaner display\n",
    "    df['overall_appointment_success'] = df['overall_appointment_success'].round()\n",
    "    return df\n",
    "\n",
    "# Apply the function to the dataset\n",
    "ampath_patient_data_feature_engineering = calculate_appointment_success(ampath_patient_data_feature_engineering)\n",
    "\n",
    "\n",
    "specific_person_id = ampath_patient_data_feature_engineering['person_id'].iloc[0] \n",
    "\n",
    "# Filter the dataset to display all rows for the specific person_id\n",
    "filtered_data = ampath_patient_data_feature_engineering[ampath_patient_data_feature_engineering['person_id'] == specific_person_id]\n",
    "\n",
    "# Display all instances of the specific person_id\n",
    "print(filtered_data[['person_id', 'past_encounters', 'num_past_iits', 'overall_appointment_success']])\n"
   ]
  },
  {
   "cell_type": "code",
   "execution_count": 51,
   "metadata": {},
   "outputs": [
    {
     "name": "stdout",
     "output_type": "stream",
     "text": [
      "<class 'pandas.core.frame.DataFrame'>\n",
      "Index: 1706795 entries, 0 to 1706796\n",
      "Data columns (total 39 columns):\n",
      " #   Column                                              Dtype         \n",
      "---  ------                                              -----         \n",
      " 0   patient_identifier                                  string        \n",
      " 1   person_id                                           int64         \n",
      " 2   gender                                              category      \n",
      " 3   birthdate                                           datetime64[ns]\n",
      " 4   Encounter_Date                                      datetime64[ns]\n",
      " 5   height                                              float64       \n",
      " 6   weight                                              float64       \n",
      " 7   Next_clinical_appointment                           datetime64[ns]\n",
      " 8   Diagnosis_Date                                      datetime64[ns]\n",
      " 9   Tuberculosis_Treatment_Plan                         int64         \n",
      " 10  Current_WHO_HIV_Stage                               category      \n",
      " 11  CD4_Count                                           float64       \n",
      " 12  Is_ART                                              float64       \n",
      " 13  Viral_Load                                          float64       \n",
      " 14  Adherence                                           category      \n",
      " 15  Screening_For_STI                                   int64         \n",
      " 16  Isoniazid_Use                                       float64       \n",
      " 17  Cotrimoxazole_Use                                   datetime64[ns]\n",
      " 18  age_at_encounter                                    float64       \n",
      " 19  age_group                                           category      \n",
      " 20  appointment_scheduled                               int64         \n",
      " 21  days_to_next_actual_visit                           int64         \n",
      " 22  next_appointment_imputed                            int64         \n",
      " 23  Cotrimoxazole_duration                              int64         \n",
      " 24  age_at_scheduled_appointment                        float64       \n",
      " 25  time_since_diagnosis_at_scheduled_appointment       int64         \n",
      " 26  duration_on_cotrimoxazole_at_scheduled_appointment  int64         \n",
      " 27  day_of_week                                         object        \n",
      " 28  month_encounter                                     object        \n",
      " 29  past_encounters                                     int64         \n",
      " 30  pct_early_arrivals                                  float64       \n",
      " 31  pct_on_time_arrivals                                float64       \n",
      " 32  pct_late_arrivals                                   float64       \n",
      " 33  num_past_iits                                       int64         \n",
      " 34  pct_past_iits                                       float64       \n",
      " 35  iit_flag                                            int64         \n",
      " 36  prev_iit_status                                     int64         \n",
      " 37  second_last_iit_status                              int64         \n",
      " 38  overall_appointment_success                         float64       \n",
      "dtypes: category(4), datetime64[ns](5), float64(13), int64(14), object(2), string(1)\n",
      "memory usage: 475.3+ MB\n"
     ]
    }
   ],
   "source": [
    "ampath_patient_data_feature_engineering.info()"
   ]
  },
  {
   "cell_type": "code",
   "execution_count": 50,
   "metadata": {},
   "outputs": [
    {
     "name": "stdout",
     "output_type": "stream",
     "text": [
      "\n",
      "Newly Added Columns (Feature-Engineered):\n",
      "['Cotrimoxazole_duration', 'age_at_encounter', 'age_at_scheduled_appointment', 'age_group', 'appointment_scheduled', 'day_of_week', 'days_to_next_actual_visit', 'duration_on_cotrimoxazole_at_scheduled_appointment', 'iit_flag', 'month_encounter', 'next_appointment_imputed', 'num_past_iits', 'overall_appointment_success', 'past_encounters', 'pct_early_arrivals', 'pct_late_arrivals', 'pct_on_time_arrivals', 'pct_past_iits', 'prev_iit_status', 'second_last_iit_status', 'time_since_diagnosis_at_scheduled_appointment']\n",
      "\n",
      "Common Columns (Unchanged):\n",
      "['Adherence', 'CD4_Count', 'Cotrimoxazole_Use', 'Current_WHO_HIV_Stage', 'Diagnosis_Date', 'Encounter_Date', 'Is_ART', 'Isoniazid_Use', 'Next_clinical_appointment', 'Screening_For_STI', 'Tuberculosis_Treatment_Plan', 'Viral_Load', 'birthdate', 'gender', 'height', 'patient_identifier', 'person_id', 'weight']\n"
     ]
    }
   ],
   "source": [
    "# Get the list of columns from both dataframes\n",
    "cleaned_columns = set(ampath_patient_data.columns)\n",
    "feature_engineering_columns = set(ampath_patient_data_feature_engineering.columns)\n",
    "\n",
    "# Find newly added columns (feature-engineered columns)\n",
    "new_columns = feature_engineering_columns - cleaned_columns\n",
    "\n",
    "# Find common columns (unchanged columns)\n",
    "common_columns = cleaned_columns & feature_engineering_columns\n",
    "\n",
    "\n",
    "print(\"\\nNewly Added Columns (Feature-Engineered):\")\n",
    "print(sorted(new_columns))\n",
    "\n",
    "print(\"\\nCommon Columns (Unchanged):\")\n",
    "print(sorted(common_columns))\n"
   ]
  },
  {
   "cell_type": "code",
   "execution_count": 39,
   "metadata": {},
   "outputs": [
    {
     "data": {
      "image/png": "[encoded data removed]",
      "text/plain": [
       "<Figure size 1000x800 with 1 Axes>"
      ]
     },
     "metadata": {},
     "output_type": "display_data"
    }
   ],
   "source": [
    "import matplotlib.pyplot as plt\n",
    "from matplotlib_venn import venn2\n",
    "\n",
    "# Get the list of columns from both dataframes\n",
    "original_columns = set(ampath_patient_data.columns)\n",
    "feature_engineering_columns = set(ampath_patient_data_feature_engineering.columns)\n",
    "\n",
    "# Create a Venn diagram\n",
    "plt.figure(figsize=(10, 8))\n",
    "venn = venn2(\n",
    "    [original_columns, feature_engineering_columns],\n",
    "    set_labels=('Original Dataset Columns', 'Feature-Engineered Dataset Columns')\n",
    ")\n",
    "\n",
    "# Add annotations for counts\n",
    "if venn.get_label_by_id('10'):\n",
    "    venn.get_label_by_id('10').set_text(f\"Original Only\\n{len(original_columns - feature_engineering_columns)}\")\n",
    "if venn.get_label_by_id('01'):\n",
    "    venn.get_label_by_id('01').set_text(f\"Feature-Engineered Only\\n{len(feature_engineering_columns - original_columns)}\")\n",
    "if venn.get_label_by_id('11'):\n",
    "    venn.get_label_by_id('11').set_text(f\"Shared Columns\\n{len(original_columns & feature_engineering_columns)}\")\n",
    "\n",
    "# Add title\n",
    "plt.title(\"Column Comparison: Original vs Feature-Engineered Dataset\", fontsize=14)\n",
    "\n",
    "# Show the plot\n",
    "plt.show()\n"
   ]
  },
  {
   "cell_type": "markdown",
   "metadata": {},
   "source": [
    "### Feature Engineering Summary\n",
    "\n",
    "After thorough data cleaning, we performed extensive feature engineering to create predictive variables for our HIV IIT model. Key steps included:\n",
    "\n",
    "1. **Temporal Features**:\n",
    "   - Patient age at scheduled appointment\n",
    "   - Time since diagnosis\n",
    "   - Duration on Cotrimoxazole\n",
    "   - Day of week and month of encounters\n",
    "\n",
    "2. **Engagement Metrics**:\n",
    "   - Number of past encounters\n",
    "   - Percentage of early, on-time, and late arrivals\n",
    "\n",
    "3. **Treatment Interruption Indicators**:\n",
    "   - Number and percentage of past IITs (Interruptions in Treatment)\n",
    "   - Previous and second-to-last appointment IIT status\n",
    "\n",
    "4. **Risk Categorization**:\n",
    "   - Age groups for demographic analysis\n",
    "   - Appointment scheduling flags\n",
    "\n",
    "We added 20 new engineered features while preserving 18 original columns, significantly enhancing the dataset's predictive potential. This comprehensive feature set captures patient history, adherence patterns, and risk factors, setting a strong foundation for building machine learning models to predict and improve HIV treatment adherence.\n",
    "\n"
   ]
  }
 ],
 "metadata": {
  "kernelspec": {
   "display_name": ".venv",
   "language": "python",
   "name": "python3"
  },
  "language_info": {
   "codemirror_mode": {
    "name": "ipython",
    "version": 3
   },
   "file_extension": ".py",
   "mimetype": "text/x-python",
   "name": "python",
   "nbconvert_exporter": "python",
   "pygments_lexer": "ipython3",
   "version": "3.9.6"
  }
 },
 "nbformat": 4,
 "nbformat_minor": 2
}
